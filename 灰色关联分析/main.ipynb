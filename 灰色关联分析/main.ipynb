{
 "cells": [
  {
   "cell_type": "code",
   "execution_count": 56,
   "metadata": {},
   "outputs": [],
   "source": [
    "import pandas as pd\n",
    "import numpy as np\n",
    "from numpy import *\n",
    "import matplotlib.pyplot as plt\n",
    "# %matplotlib inline\n"
   ]
  },
  {
   "cell_type": "code",
   "execution_count": 57,
   "metadata": {},
   "outputs": [
    {
     "data": {
      "text/html": [
       "<div>\n",
       "<style scoped>\n",
       "    .dataframe tbody tr th:only-of-type {\n",
       "        vertical-align: middle;\n",
       "    }\n",
       "\n",
       "    .dataframe tbody tr th {\n",
       "        vertical-align: top;\n",
       "    }\n",
       "\n",
       "    .dataframe thead th {\n",
       "        text-align: right;\n",
       "    }\n",
       "</style>\n",
       "<table border=\"1\" class=\"dataframe\">\n",
       "  <thead>\n",
       "    <tr style=\"text-align: right;\">\n",
       "      <th></th>\n",
       "      <th>star_rating</th>\n",
       "      <th>socre</th>\n",
       "    </tr>\n",
       "  </thead>\n",
       "  <tbody>\n",
       "    <tr>\n",
       "      <th>0</th>\n",
       "      <td>5</td>\n",
       "      <td>0.999008</td>\n",
       "    </tr>\n",
       "    <tr>\n",
       "      <th>1</th>\n",
       "      <td>4</td>\n",
       "      <td>0.994503</td>\n",
       "    </tr>\n",
       "    <tr>\n",
       "      <th>2</th>\n",
       "      <td>5</td>\n",
       "      <td>0.002555</td>\n",
       "    </tr>\n",
       "    <tr>\n",
       "      <th>3</th>\n",
       "      <td>5</td>\n",
       "      <td>0.004155</td>\n",
       "    </tr>\n",
       "    <tr>\n",
       "      <th>4</th>\n",
       "      <td>5</td>\n",
       "      <td>0.997319</td>\n",
       "    </tr>\n",
       "  </tbody>\n",
       "</table>\n",
       "</div>"
      ],
      "text/plain": [
       "   star_rating     socre\n",
       "0            5  0.999008\n",
       "1            4  0.994503\n",
       "2            5  0.002555\n",
       "3            5  0.004155\n",
       "4            5  0.997319"
      ]
     },
     "execution_count": 57,
     "metadata": {},
     "output_type": "execute_result"
    }
   ],
   "source": [
    "wine = pd.read_excel('test.xlsx',header=0)\n",
    "wine.head()"
   ]
  },
  {
   "cell_type": "code",
   "execution_count": 58,
   "metadata": {},
   "outputs": [],
   "source": [
    "# 无量纲化\n",
    "def dimensionlessProcessing(df):\n",
    "    newDataFrame = pd.DataFrame(index=df.index)\n",
    "    columns = df.columns.tolist()\n",
    "    for c in columns:\n",
    "        d = df[c]\n",
    "        MAX = d.max()\n",
    "        MIN = d.min()\n",
    "        MEAN = d.mean()\n",
    "        newDataFrame[c] = ((d - MEAN) / (MAX - MIN)).tolist()\n",
    "    return newDataFrame\n",
    "\n",
    "def GRA_ONE(gray, m=0):\n",
    "    # 读取为df格式\n",
    "    gray = dimensionlessProcessing(gray)\n",
    "    # 标准化\n",
    "    std = gray.iloc[:, m]  # 为标准要素\n",
    "    gray.drop(str(m),axis=1,inplace=True)\n",
    "    ce = gray.iloc[:, 0:]  # 为比较要素\n",
    "    shape_n, shape_m = ce.shape[0], ce.shape[1]  # 计算行列\n",
    "\n",
    "    # 与标准要素比较，相减\n",
    "    a = zeros([shape_m, shape_n])\n",
    "    for i in range(shape_m):\n",
    "        for j in range(shape_n):\n",
    "            a[i, j] = abs(ce.iloc[j, i] - std[j])\n",
    "\n",
    "    # 取出矩阵中最大值与最小值\n",
    "    c, d = amax(a), amin(a)\n",
    "\n",
    "    # 计算值\n",
    "    result = zeros([shape_m, shape_n])\n",
    "    for i in range(shape_m):\n",
    "        for j in range(shape_n):\n",
    "            result[i, j] = (d + 0.5 * c) / (a[i, j] + 0.5 * c)\n",
    "\n",
    "    # 求均值，得到灰色关联值,并返回\n",
    "    result_list = [mean(result[i, :]) for i in range(shape_m)]\n",
    "    result_list.insert(m,1)\n",
    "    return pd.DataFrame(result_list)\n",
    "\n",
    "\n",
    "def GRA(DataFrame):\n",
    "    df = DataFrame.copy()\n",
    "    list_columns = [\n",
    "        str(s) for s in range(len(df.columns)) if s not in [None]\n",
    "    ]\n",
    "    df_local = pd.DataFrame(columns=list_columns)\n",
    "    df.columns=list_columns\n",
    "    for i in range(len(df.columns)):\n",
    "        df_local.iloc[:, i] = GRA_ONE(df, m=i)[0]\n",
    "    return df_local"
   ]
  },
  {
   "cell_type": "code",
   "execution_count": 59,
   "metadata": {},
   "outputs": [
    {
     "data": {
      "text/html": [
       "<div>\n",
       "<style scoped>\n",
       "    .dataframe tbody tr th:only-of-type {\n",
       "        vertical-align: middle;\n",
       "    }\n",
       "\n",
       "    .dataframe tbody tr th {\n",
       "        vertical-align: top;\n",
       "    }\n",
       "\n",
       "    .dataframe thead th {\n",
       "        text-align: right;\n",
       "    }\n",
       "</style>\n",
       "<table border=\"1\" class=\"dataframe\">\n",
       "  <thead>\n",
       "    <tr style=\"text-align: right;\">\n",
       "      <th></th>\n",
       "      <th>0</th>\n",
       "      <th>1</th>\n",
       "    </tr>\n",
       "  </thead>\n",
       "  <tbody>\n",
       "    <tr>\n",
       "      <th>0</th>\n",
       "      <td>1.000000</td>\n",
       "      <td>0.636054</td>\n",
       "    </tr>\n",
       "    <tr>\n",
       "      <th>1</th>\n",
       "      <td>0.636054</td>\n",
       "      <td>1.000000</td>\n",
       "    </tr>\n",
       "  </tbody>\n",
       "</table>\n",
       "</div>"
      ],
      "text/plain": [
       "          0         1\n",
       "0  1.000000  0.636054\n",
       "1  0.636054  1.000000"
      ]
     },
     "execution_count": 59,
     "metadata": {},
     "output_type": "execute_result"
    }
   ],
   "source": [
    "data_wine_gra = GRA(wine)\n",
    "# data_wine_gra.to_csv(path+\"GRA.csv\") 存储结果到硬盘\n",
    "data_wine_gra"
   ]
  },
  {
   "cell_type": "code",
   "execution_count": 60,
   "metadata": {},
   "outputs": [
    {
     "data": {
      "text/html": [
       "<div>\n",
       "<style scoped>\n",
       "    .dataframe tbody tr th:only-of-type {\n",
       "        vertical-align: middle;\n",
       "    }\n",
       "\n",
       "    .dataframe tbody tr th {\n",
       "        vertical-align: top;\n",
       "    }\n",
       "\n",
       "    .dataframe thead th {\n",
       "        text-align: right;\n",
       "    }\n",
       "</style>\n",
       "<table border=\"1\" class=\"dataframe\">\n",
       "  <thead>\n",
       "    <tr style=\"text-align: right;\">\n",
       "      <th></th>\n",
       "      <th>star_rating</th>\n",
       "      <th>socre</th>\n",
       "    </tr>\n",
       "  </thead>\n",
       "  <tbody>\n",
       "    <tr>\n",
       "      <th>star_rating</th>\n",
       "      <td>1.000000</td>\n",
       "      <td>0.636054</td>\n",
       "    </tr>\n",
       "    <tr>\n",
       "      <th>socre</th>\n",
       "      <td>0.636054</td>\n",
       "      <td>1.000000</td>\n",
       "    </tr>\n",
       "  </tbody>\n",
       "</table>\n",
       "</div>"
      ],
      "text/plain": [
       "             star_rating     socre\n",
       "star_rating     1.000000  0.636054\n",
       "socre           0.636054  1.000000"
      ]
     },
     "execution_count": 60,
     "metadata": {},
     "output_type": "execute_result"
    }
   ],
   "source": [
    "data_wine_gra.columns = wine.columns\n",
    "data_wine_gra.index = wine.columns\n",
    "data_wine_gra"
   ]
  },
  {
   "cell_type": "code",
   "execution_count": 61,
   "metadata": {},
   "outputs": [
    {
     "data": {
      "image/png": "[encoded data removed]",
      "text/plain": [
       "<Figure size 1008x1008 with 2 Axes>"
      ]
     },
     "metadata": {
      "needs_background": "light"
     },
     "output_type": "display_data"
    }
   ],
   "source": [
    " # 灰色关联结果矩阵可视化\n",
    "import seaborn as sns\n",
    "\n",
    "def ShowGRAHeatMap(DataFrame):\n",
    "    colormap = plt.cm.RdBu\n",
    "    ylabels = DataFrame.columns.values.tolist()\n",
    "    f, ax = plt.subplots(figsize=(14, 14))\n",
    "    ax.set_title('GRA HeatMap')\n",
    "    \n",
    "    # 设置展示一半，如果不需要注释掉mask即可\n",
    "    mask = np.zeros_like(DataFrame)\n",
    "    mask[np.triu_indices_from(mask)] = True\n",
    "    \n",
    "    with sns.axes_style(\"white\"):\n",
    "        sns.heatmap(DataFrame,\n",
    "                    cmap=\"YlGnBu\",\n",
    "                    annot=True,\n",
    "                    mask=mask,\n",
    "                   )\n",
    "    plt.show()\n",
    "\n",
    "ShowGRAHeatMap(data_wine_gra)"
   ]
  }
 ],
 "metadata": {
  "interpreter": {
   "hash": "916dbcbb3f70747c44a77c7bcd40155683ae19c65e1c03b4aa3499c5328201f1"
  },
  "kernelspec": {
   "display_name": "Python 3.8.10 64-bit",
   "language": "python",
   "name": "python3"
  },
  "language_info": {
   "codemirror_mode": {
    "name": "ipython",
    "version": 3
   },
   "file_extension": ".py",
   "mimetype": "text/x-python",
   "name": "python",
   "nbconvert_exporter": "python",
   "pygments_lexer": "ipython3",
   "version": "3.8.10"
  },
  "orig_nbformat": 4
 },
 "nbformat": 4,
 "nbformat_minor": 2
}
