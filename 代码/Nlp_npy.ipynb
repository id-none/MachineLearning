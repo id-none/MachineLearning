{
 "cells": [
  {
   "cell_type": "code",
   "execution_count": 2,
   "metadata": {
    "collapsed": false
   },
   "outputs": [
    {
     "name": "stdout",
     "output_type": "stream",
     "text": [
      "24500\n",
      "down1\n"
     ]
    }
   ],
   "source": [
    "import numpy as np\n",
    "import tensorflow as tf\n",
    "wordsList=np.load('wordsList.npy') #包含40万个词的python列表\n",
    "wordsList=wordsList.tolist()\n",
    "wordsList=[word.decode('UTF-8') for word in wordsList]\n",
    "wordVectors=np.load('wordVectors.npy')\n",
    "import pandas as pd\n",
    "#读入数\n",
    "df=pd.read_csv('labeledTrainData.tsv',sep='\\t',escapechar='\\\\')\n",
    "\n",
    "import tensorflow as tf\n",
    "print(len(df))\n",
    "#将生成的索引矩阵保存到idsMatrix.npy文件中。避免了每次都要生成索引矩阵\n",
    "ids=np.load('idsMatrix.npy')\n",
    "x=np.zeros([24500,250])\n",
    "y=[]\n",
    "\n",
    "for i in range (0,24500):\n",
    "    if df['sentiment'][i]==1:\n",
    "        y.append([1,0])\n",
    "        x[i]=ids[i]\n",
    "    else:\n",
    "        y.append([0,1])\n",
    "        x[i]=ids[i]\n",
    "np.save('train_review.npy', np.array(x))\n",
    "np.save('train_lable.npy', np.array(y))\n",
    "\n",
    "\n",
    "print('down1')"
   ]
  },
  {
   "cell_type": "code",
   "execution_count": 3,
   "metadata": {
    "collapsed": false
   },
   "outputs": [
    {
     "name": "stdout",
     "output_type": "stream",
     "text": [
      "down2\n"
     ]
    }
   ],
   "source": [
    "df1=pd.read_csv('testData.tsv',sep='\\t',escapechar='\\\\')\n",
    "ids1=np.load('idsTestMatrix.npy')\n",
    "m=np.zeros([22000,250])\n",
    "for i in range (0,22000):\n",
    "        m[i]=ids1[i]\n",
    "np.save('test_review.npy', np.array(m))\n",
    "print('down2')"
   ]
  },
  {
   "cell_type": "code",
   "execution_count": 13,
   "metadata": {
    "collapsed": true
   },
   "outputs": [
    {
     "name": "stdout",
     "output_type": "stream",
     "text": [
      "down2\n"
     ]
    }
   ],
   "source": [
    "df1=pd.read_csv('test.tsv',sep='\\t',escapechar='\\\\')\n",
    "ids1=np.load('idsTestMatrix.npy')\n",
    "m=np.zeros([22000,250])\n",
    "for i in range (0,22000):\n",
    "        m[i]=ids1[i]\n",
    "np.save('test.npy', np.array(m))\n",
    "print('down2')"
   ]
  }
 ],
 "metadata": {
  "kernelspec": {
   "display_name": "Python 3",
   "language": "python",
   "name": "python3"
  },
  "language_info": {
   "codemirror_mode": {
    "name": "ipython",
    "version": 3
   },
   "file_extension": ".py",
   "mimetype": "text/x-python",
   "name": "python",
   "nbconvert_exporter": "python",
   "pygments_lexer": "ipython3",
   "version": "3.8.10"
  }
 },
 "nbformat": 4,
 "nbformat_minor": 2
}
