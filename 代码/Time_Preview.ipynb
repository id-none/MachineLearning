{
 "cells": [
  {
   "cell_type": "code",
   "execution_count": 1,
   "metadata": {},
   "outputs": [
    {
     "name": "stdout",
     "output_type": "stream",
     "text": [
      "Prophet 0.7.1\n"
     ]
    }
   ],
   "source": [
    "# check prophet version\n",
    "import fbprophet\n",
    "# print version number\n",
    "print('Prophet %s' % fbprophet.__version__)"
   ]
  },
  {
   "cell_type": "code",
   "execution_count": 3,
   "metadata": {},
   "outputs": [
    {
     "name": "stdout",
     "output_type": "stream",
     "text": [
      "(52, 2)\n",
      "           ds       y\n",
      "0   2011.6.22  3.4173\n",
      "1   2011.7.22  0.0000\n",
      "2   2011.8.21  0.0000\n",
      "3   2011.9.20  0.0000\n",
      "4  2011.10.20  0.0000\n"
     ]
    },
    {
     "data": {
      "image/png": "[encoded data removed]",
      "text/plain": [
       "<Figure size 432x288 with 1 Axes>"
      ]
     },
     "metadata": {
      "needs_background": "light"
     },
     "output_type": "display_data"
    }
   ],
   "source": [
    "# load the car sales dataset\n",
    "from pandas import read_csv\n",
    "from matplotlib import pyplot\n",
    "# load data\n",
    "path = 'mairowave_sheet1.csv'\n",
    "df = read_csv(path, header=0)\n",
    "# summarize shape\n",
    "print(df.shape)\n",
    "# show first few rows\n",
    "print(df.head())\n",
    "# plot the time series\n",
    "df.plot()\n",
    "pyplot.show()"
   ]
  },
  {
   "cell_type": "code",
   "execution_count": 4,
   "metadata": {},
   "outputs": [
    {
     "name": "stderr",
     "output_type": "stream",
     "text": [
      "INFO:fbprophet:Disabling weekly seasonality. Run prophet with weekly_seasonality=True to override this.\n",
      "INFO:fbprophet:Disabling daily seasonality. Run prophet with daily_seasonality=True to override this.\n"
     ]
    },
    {
     "name": "stdout",
     "output_type": "stream",
     "text": [
      "\n"
     ]
    },
    {
     "data": {
      "text/plain": [
       "<fbprophet.forecaster.Prophet at 0x7f7d5cc6d670>"
      ]
     },
     "execution_count": 4,
     "metadata": {},
     "output_type": "execute_result"
    },
    {
     "name": "stdout",
     "output_type": "stream",
     "text": [
      "Initial log joint probability = -63.9456\n",
      "Iteration  1. Log joint probability =    35.4879. Improved by 99.4335.\n",
      "Iteration  2. Log joint probability =    50.6454. Improved by 15.1574.\n",
      "Iteration  3. Log joint probability =    53.7948. Improved by 3.14942.\n",
      "Iteration  4. Log joint probability =    59.7432. Improved by 5.9484.\n",
      "Iteration  5. Log joint probability =    60.2464. Improved by 0.503173.\n",
      "Iteration  6. Log joint probability =    60.5343. Improved by 0.287986.\n",
      "Iteration  7. Log joint probability =    60.6036. Improved by 0.069278.\n",
      "Iteration  8. Log joint probability =    60.6296. Improved by 0.0260016.\n",
      "Iteration  9. Log joint probability =    60.6637. Improved by 0.034124.\n",
      "Iteration 10. Log joint probability =    60.7019. Improved by 0.0381265.\n",
      "Iteration 11. Log joint probability =    60.7021. Improved by 0.000256123.\n",
      "Iteration 12. Log joint probability =    60.7236. Improved by 0.0214393.\n",
      "Iteration 13. Log joint probability =     60.734. Improved by 0.0104492.\n",
      "Iteration 14. Log joint probability =    60.7351. Improved by 0.00104435.\n",
      "Iteration 15. Log joint probability =    60.7386. Improved by 0.00353692.\n",
      "Iteration 16. Log joint probability =     60.744. Improved by 0.00538267.\n",
      "Iteration 17. Log joint probability =    60.7462. Improved by 0.00224707.\n",
      "Iteration 18. Log joint probability =    60.7472. Improved by 0.0010104.\n",
      "Iteration 19. Log joint probability =     60.748. Improved by 0.000815131.\n",
      "Iteration 20. Log joint probability =    60.7484. Improved by 0.000329946.\n",
      "Iteration 21. Log joint probability =    60.7484. Improved by 2.77013e-05.\n",
      "Iteration 22. Log joint probability =    60.7485. Improved by 7.37379e-05.\n",
      "Iteration 23. Log joint probability =    60.7485. Improved by 3.00188e-05.\n",
      "Iteration 24. Log joint probability =    60.7492. Improved by 0.000716833.\n",
      "Iteration 25. Log joint probability =    60.7495. Improved by 0.00028915.\n",
      "Iteration 26. Log joint probability =    60.7496. Improved by 5.67157e-05.\n",
      "Iteration 27. Log joint probability =    60.7497. Improved by 7.93939e-05.\n",
      "Iteration 28. Log joint probability =    60.7498. Improved by 0.000120245.\n",
      "Iteration 29. Log joint probability =    60.7498. Improved by 3.67062e-05.\n",
      "Iteration 30. Log joint probability =    60.7498. Improved by 1.90265e-05.\n",
      "Iteration 31. Log joint probability =    60.7499. Improved by 0.000104143.\n",
      "Iteration 32. Log joint probability =    60.7499. Improved by 1.64837e-05.\n",
      "Iteration 33. Log joint probability =      60.75. Improved by 2.01562e-05.\n",
      "Iteration 34. Log joint probability =      60.75. Improved by 1.49512e-05.\n",
      "Iteration 35. Log joint probability =      60.75. Improved by 1.01974e-05.\n",
      "Iteration 36. Log joint probability =      60.75. Improved by 1.35488e-06.\n",
      "Iteration 37. Log joint probability =      60.75. Improved by 1.62185e-06.\n",
      "Iteration 38. Log joint probability =      60.75. Improved by 5.31534e-06.\n",
      "Iteration 39. Log joint probability =      60.75. Improved by 4.62154e-07.\n",
      "Iteration 40. Log joint probability =      60.75. Improved by 2.07704e-06.\n",
      "Iteration 41. Log joint probability =      60.75. Improved by 4.57608e-07.\n",
      "Iteration 42. Log joint probability =      60.75. Improved by 9.3884e-11.\n"
     ]
    }
   ],
   "source": [
    "# fit prophet model on the car sales dataset\n",
    "from pandas import read_csv\n",
    "from pandas import to_datetime\n",
    "from fbprophet import Prophet\n",
    "# load data\n",
    "path = 'mairowave_sheet1.csv'\n",
    "df = read_csv(path, header=0)\n",
    "# prepare expected column names\n",
    "df.columns = ['ds', 'y']\n",
    "df['ds']= to_datetime(df['ds'])\n",
    "# define the model\n",
    "model = Prophet()\n",
    "# fit the model\n",
    "model.fit(df)"
   ]
  },
  {
   "cell_type": "code",
   "execution_count": 9,
   "metadata": {},
   "outputs": [
    {
     "name": "stderr",
     "output_type": "stream",
     "text": [
      "INFO:fbprophet:Disabling weekly seasonality. Run prophet with weekly_seasonality=True to override this.\n",
      "INFO:fbprophet:Disabling daily seasonality. Run prophet with daily_seasonality=True to override this.\n"
     ]
    },
    {
     "name": "stdout",
     "output_type": "stream",
     "text": [
      "\n",
      "Initial log joint probability = -63.9456\n",
      "Iteration  1. Log joint probability =    35.4879. Improved by 99.4335.\n",
      "Iteration  2. Log joint probability =    50.6454. Improved by 15.1574.\n",
      "Iteration  3. Log joint probability =    53.7948. Improved by 3.14942.\n",
      "Iteration  4. Log joint probability =    59.7432. Improved by 5.9484.\n",
      "Iteration  5. Log joint probability =    60.2464. Improved by 0.503173.\n",
      "Iteration  6. Log joint probability =    60.5343. Improved by 0.287986.\n",
      "Iteration  7. Log joint probability =    60.6036. Improved by 0.069278.\n",
      "Iteration  8. Log joint probability =    60.6296. Improved by 0.0260016.\n",
      "Iteration  9. Log joint probability =    60.6637. Improved by 0.034124.\n",
      "Iteration 10. Log joint probability =    60.7019. Improved by 0.0381265.\n",
      "Iteration 11. Log joint probability =    60.7021. Improved by 0.000256123.\n",
      "Iteration 12. Log joint probability =    60.7236. Improved by 0.0214393.\n",
      "Iteration 13. Log joint probability =     60.734. Improved by 0.0104492.\n",
      "Iteration 14. Log joint probability =    60.7351. Improved by 0.00104435.\n",
      "Iteration 15. Log joint probability =    60.7386. Improved by 0.00353692.\n",
      "Iteration 16. Log joint probability =     60.744. Improved by 0.00538267.\n",
      "Iteration 17. Log joint probability =    60.7462. Improved by 0.00224707.\n",
      "Iteration 18. Log joint probability =    60.7472. Improved by 0.0010104.\n",
      "Iteration 19. Log joint probability =     60.748. Improved by 0.000815131.\n",
      "Iteration 20. Log joint probability =    60.7484. Improved by 0.000329946.\n",
      "Iteration 21. Log joint probability =    60.7484. Improved by 2.77013e-05.\n",
      "Iteration 22. Log joint probability =    60.7485. Improved by 7.37379e-05.\n",
      "Iteration 23. Log joint probability =    60.7485. Improved by 3.00188e-05.\n",
      "Iteration 24. Log joint probability =    60.7492. Improved by 0.000716833.\n",
      "Iteration 25. Log joint probability =    60.7495. Improved by 0.00028915.\n",
      "Iteration 26. Log joint probability =    60.7496. Improved by 5.67157e-05.\n",
      "Iteration 27. Log joint probability =    60.7497. Improved by 7.93939e-05.\n",
      "Iteration 28. Log joint probability =    60.7498. Improved by 0.000120245.\n",
      "Iteration 29. Log joint probability =    60.7498. Improved by 3.67062e-05.\n",
      "Iteration 30. Log joint probability =    60.7498. Improved by 1.90265e-05.\n",
      "Iteration 31. Log joint probability =    60.7499. Improved by 0.000104143.\n",
      "Iteration 32. Log joint probability =    60.7499. Improved by 1.64837e-05.\n",
      "Iteration 33. Log joint probability =      60.75. Improved by 2.01562e-05.\n",
      "Iteration 34. Log joint probability =      60.75. Improved by 1.49512e-05.\n",
      "Iteration 35. Log joint probability =      60.75. Improved by 1.01974e-05.\n",
      "Iteration 36. Log joint probability =      60.75. Improved by 1.35488e-06.\n",
      "Iteration 37. Log joint probability =      60.75. Improved by 1.62185e-06.\n",
      "Iteration 38. Log joint probability =      60.75. Improved by 5.31534e-06.\n",
      "Iteration 39. Log joint probability =      60.75. Improved by 4.62154e-07.\n",
      "Iteration 40. Log joint probability =      60.75. Improved by 2.07704e-06.\n",
      "Iteration 41. Log joint probability =      60.75. Improved by 4.57608e-07.\n",
      "Iteration 42. Log joint probability =      60.75. Improved by 9.3884e-11.\n",
      "          ds        yhat  yhat_lower  yhat_upper\n",
      "0 1968-01-01 -163.169066 -169.902139 -157.167411\n",
      "1 1968-02-01 -168.158551 -174.433627 -162.193341\n",
      "2 1968-03-01 -166.445351 -172.710995 -159.897198\n",
      "3 1968-04-01 -156.827604 -162.870340 -150.678325\n",
      "4 1968-05-01 -164.824425 -170.578225 -158.388716\n"
     ]
    },
    {
     "data": {
      "image/png": "[encoded data removed]",
      "text/plain": [
       "<Figure size 720x432 with 1 Axes>"
      ]
     },
     "metadata": {},
     "output_type": "display_data"
    }
   ],
   "source": [
    "# make an in-sample forecast\n",
    "from pandas import read_csv\n",
    "from pandas import to_datetime\n",
    "from pandas import DataFrame\n",
    "from fbprophet import Prophet\n",
    "from matplotlib import pyplot\n",
    "# load data\n",
    "path = 'mairowave_sheet1.csv'\n",
    "df = read_csv(path, header=0)\n",
    "# prepare expected column names\n",
    "df.columns = ['ds', 'y']\n",
    "df['ds']= to_datetime(df['ds'])\n",
    "# define the model\n",
    "model = Prophet()\n",
    "# fit the model\n",
    "model.fit(df)\n",
    "# define the period for which we want a prediction\n",
    "future = list()\n",
    "for i in range(1, 13):\n",
    "    # date = '1968-%02d' % i\n",
    "    date = '1968-%02d' % i\n",
    "    future.append([date])\n",
    "future = DataFrame(future)\n",
    "future.columns = ['ds']\n",
    "future['ds']= to_datetime(future['ds'])\n",
    "# use the model to make a forecast\n",
    "forecast = model.predict(future)\n",
    "# summarize the forecast\n",
    "print(forecast[['ds', 'yhat', 'yhat_lower', 'yhat_upper']].head())\n",
    "# plot forecast\n",
    "model.plot(forecast)\n",
    "pyplot.show()"
   ]
  },
  {
   "cell_type": "code",
   "execution_count": 11,
   "metadata": {},
   "outputs": [
    {
     "name": "stderr",
     "output_type": "stream",
     "text": [
      "INFO:fbprophet:Disabling weekly seasonality. Run prophet with weekly_seasonality=True to override this.\n",
      "INFO:fbprophet:Disabling daily seasonality. Run prophet with daily_seasonality=True to override this.\n"
     ]
    },
    {
     "name": "stdout",
     "output_type": "stream",
     "text": [
      "\n",
      "Initial log joint probability = -63.9456\n",
      "Iteration  1. Log joint probability =    35.4879. Improved by 99.4335.\n",
      "Iteration  2. Log joint probability =    50.6454. Improved by 15.1574.\n",
      "Iteration  3. Log joint probability =    53.7948. Improved by 3.14942.\n",
      "Iteration  4. Log joint probability =    59.7432. Improved by 5.9484.\n",
      "Iteration  5. Log joint probability =    60.2464. Improved by 0.503173.\n",
      "Iteration  6. Log joint probability =    60.5343. Improved by 0.287986.\n",
      "Iteration  7. Log joint probability =    60.6036. Improved by 0.069278.\n",
      "Iteration  8. Log joint probability =    60.6296. Improved by 0.0260016.\n",
      "Iteration  9. Log joint probability =    60.6637. Improved by 0.034124.\n",
      "Iteration 10. Log joint probability =    60.7019. Improved by 0.0381265.\n",
      "Iteration 11. Log joint probability =    60.7021. Improved by 0.000256123.\n",
      "Iteration 12. Log joint probability =    60.7236. Improved by 0.0214393.\n",
      "Iteration 13. Log joint probability =     60.734. Improved by 0.0104492.\n",
      "Iteration 14. Log joint probability =    60.7351. Improved by 0.00104435.\n",
      "Iteration 15. Log joint probability =    60.7386. Improved by 0.00353692.\n",
      "Iteration 16. Log joint probability =     60.744. Improved by 0.00538267.\n",
      "Iteration 17. Log joint probability =    60.7462. Improved by 0.00224707.\n",
      "Iteration 18. Log joint probability =    60.7472. Improved by 0.0010104.\n",
      "Iteration 19. Log joint probability =     60.748. Improved by 0.000815131.\n",
      "Iteration 20. Log joint probability =    60.7484. Improved by 0.000329946.\n",
      "Iteration 21. Log joint probability =    60.7484. Improved by 2.77013e-05.\n",
      "Iteration 22. Log joint probability =    60.7485. Improved by 7.37379e-05.\n",
      "Iteration 23. Log joint probability =    60.7485. Improved by 3.00188e-05.\n",
      "Iteration 24. Log joint probability =    60.7492. Improved by 0.000716833.\n",
      "Iteration 25. Log joint probability =    60.7495. Improved by 0.00028915.\n",
      "Iteration 26. Log joint probability =    60.7496. Improved by 5.67157e-05.\n",
      "Iteration 27. Log joint probability =    60.7497. Improved by 7.93939e-05.\n",
      "Iteration 28. Log joint probability =    60.7498. Improved by 0.000120245.\n",
      "Iteration 29. Log joint probability =    60.7498. Improved by 3.67062e-05.\n",
      "Iteration 30. Log joint probability =    60.7498. Improved by 1.90265e-05.\n",
      "Iteration 31. Log joint probability =    60.7499. Improved by 0.000104143.\n",
      "Iteration 32. Log joint probability =    60.7499. Improved by 1.64837e-05.\n",
      "Iteration 33. Log joint probability =      60.75. Improved by 2.01562e-05.\n",
      "Iteration 34. Log joint probability =      60.75. Improved by 1.49512e-05.\n",
      "Iteration 35. Log joint probability =      60.75. Improved by 1.01974e-05.\n",
      "Iteration 36. Log joint probability =      60.75. Improved by 1.35488e-06.\n",
      "Iteration 37. Log joint probability =      60.75. Improved by 1.62185e-06.\n",
      "Iteration 38. Log joint probability =      60.75. Improved by 5.31534e-06.\n",
      "Iteration 39. Log joint probability =      60.75. Improved by 4.62154e-07.\n",
      "Iteration 40. Log joint probability =      60.75. Improved by 2.07704e-06.\n",
      "Iteration 41. Log joint probability =      60.75. Improved by 4.57608e-07.\n",
      "Iteration 42. Log joint probability =      60.75. Improved by 9.3884e-11.\n",
      "          ds        yhat  yhat_lower  yhat_upper\n",
      "0 1969-01-01 -159.506182 -165.520069 -153.326407\n",
      "1 1969-02-01 -164.283967 -170.236218 -157.541092\n",
      "2 1969-03-01 -162.660537 -169.126254 -156.271450\n",
      "3 1969-04-01 -152.936147 -159.261997 -146.498419\n",
      "4 1969-05-01 -161.012482 -167.199464 -154.290658\n"
     ]
    },
    {
     "data": {
      "image/png": "[encoded data removed]",
      "text/plain": [
       "<Figure size 720x432 with 1 Axes>"
      ]
     },
     "metadata": {},
     "output_type": "display_data"
    }
   ],
   "source": [
    "# make an out-of-sample forecast\n",
    "from pandas import read_csv\n",
    "from pandas import to_datetime\n",
    "from pandas import DataFrame\n",
    "from fbprophet import Prophet\n",
    "from matplotlib import pyplot\n",
    "# load data\n",
    "path = 'mairowave_sheet1.csv'\n",
    "df = read_csv(path, header=0)\n",
    "# prepare expected column names\n",
    "df.columns = ['ds', 'y']\n",
    "df['ds']= to_datetime(df['ds'])\n",
    "# define the model\n",
    "model = Prophet()\n",
    "# fit the model\n",
    "model.fit(df)\n",
    "# define the period for which we want a prediction\n",
    "future = list()\n",
    "for i in range(1, 13):\n",
    "    date = '1969-%02d' % i\n",
    "    future.append([date])\n",
    "future = DataFrame(future)\n",
    "future.columns = ['ds']\n",
    "future['ds']= to_datetime(future['ds'])\n",
    "# use the model to make a forecast\n",
    "forecast = model.predict(future)\n",
    "# summarize the forecast\n",
    "print(forecast[['ds', 'yhat', 'yhat_lower', 'yhat_upper']].head())\n",
    "# plot forecast\n",
    "model.plot(forecast)\n",
    "pyplot.show()"
   ]
  },
  {
   "cell_type": "code",
   "execution_count": 12,
   "metadata": {},
   "outputs": [
    {
     "name": "stderr",
     "output_type": "stream",
     "text": [
      "INFO:fbprophet:Disabling weekly seasonality. Run prophet with weekly_seasonality=True to override this.\n",
      "INFO:fbprophet:Disabling daily seasonality. Run prophet with daily_seasonality=True to override this.\n"
     ]
    },
    {
     "name": "stdout",
     "output_type": "stream",
     "text": [
      "           ds        y\n",
      "35 2014-05-07  13.6357\n",
      "36 2014-06-06  11.2190\n",
      "37 2014-07-06  10.6806\n",
      "38 2014-08-05   7.1432\n",
      "39 2014-09-04  12.5992\n",
      "\n",
      "Initial log joint probability = -52.6787\n",
      "Iteration  1. Log joint probability =    25.7909. Improved by 78.4695.\n",
      "Iteration  2. Log joint probability =    45.0919. Improved by 19.3011.\n",
      "Iteration  3. Log joint probability =    49.7064. Improved by 4.61447.\n",
      "Iteration  4. Log joint probability =    49.9431. Improved by 0.236676.\n",
      "Iteration  5. Log joint probability =    49.9825. Improved by 0.0394607.\n",
      "Iteration  6. Log joint probability =    49.9984. Improved by 0.0158356.\n",
      "Iteration  7. Log joint probability =     50.007. Improved by 0.00866788.\n",
      "Iteration  8. Log joint probability =    50.0105. Improved by 0.0034501.\n",
      "Iteration  9. Log joint probability =    50.0246. Improved by 0.0141374.\n",
      "Iteration 10. Log joint probability =    50.0302. Improved by 0.00561387.\n",
      "Iteration 11. Log joint probability =    50.0361. Improved by 0.00588757.\n",
      "Iteration 12. Log joint probability =    50.0383. Improved by 0.00212703.\n",
      "Iteration 13. Log joint probability =    50.0389. Improved by 0.000685768.\n",
      "Iteration 14. Log joint probability =      50.04. Improved by 0.00103801.\n",
      "Iteration 15. Log joint probability =    50.0407. Improved by 0.000680262.\n",
      "Iteration 16. Log joint probability =    50.0412. Improved by 0.000546251.\n",
      "Iteration 17. Log joint probability =    50.0425. Improved by 0.00124961.\n",
      "Iteration 18. Log joint probability =    50.0432. Improved by 0.000723105.\n",
      "Iteration 19. Log joint probability =    50.0439. Improved by 0.00069029.\n",
      "Iteration 20. Log joint probability =    50.0444. Improved by 0.000487428.\n",
      "Iteration 21. Log joint probability =    50.0447. Improved by 0.00032803.\n",
      "Iteration 22. Log joint probability =    50.0454. Improved by 0.000689971.\n",
      "Iteration 23. Log joint probability =    50.0459. Improved by 0.000512358.\n",
      "Iteration 24. Log joint probability =    50.0463. Improved by 0.000395909.\n",
      "Iteration 25. Log joint probability =    50.0465. Improved by 0.000224715.\n",
      "Iteration 26. Log joint probability =    50.0466. Improved by 9.72024e-05.\n",
      "Iteration 27. Log joint probability =    50.0467. Improved by 9.7743e-05.\n",
      "Iteration 28. Log joint probability =    50.0469. Improved by 0.000175959.\n",
      "Iteration 29. Log joint probability =    50.0469. Improved by 6.12263e-05.\n",
      "Iteration 30. Log joint probability =    50.0471. Improved by 0.000156172.\n",
      "Iteration 31. Log joint probability =    50.0471. Improved by 3.7117e-05.\n",
      "Iteration 32. Log joint probability =    50.0471. Improved by 6.57016e-06.\n",
      "Iteration 33. Log joint probability =    50.0472. Improved by 7.6014e-05.\n",
      "Iteration 34. Log joint probability =    50.0473. Improved by 6.11305e-05.\n",
      "Iteration 35. Log joint probability =    50.0473. Improved by 1.87866e-05.\n",
      "Iteration 36. Log joint probability =    50.0473. Improved by 2.39995e-07.\n",
      "Iteration 37. Log joint probability =    50.0473. Improved by 1.07355e-05.\n",
      "Iteration 38. Log joint probability =    50.0473. Improved by 2.28172e-05.\n",
      "Iteration 39. Log joint probability =    50.0473. Improved by 8.12979e-06.\n",
      "Iteration 40. Log joint probability =    50.0474. Improved by 5.77336e-05.\n",
      "Iteration 41. Log joint probability =    50.0474. Improved by 2.42559e-05.\n",
      "Iteration 42. Log joint probability =    50.0474. Improved by 2.45342e-05.\n",
      "Iteration 43. Log joint probability =    50.0474. Improved by 2.77865e-06.\n",
      "Iteration 44. Log joint probability =    50.0475. Improved by 1.00571e-05.\n",
      "Iteration 45. Log joint probability =    50.0475. Improved by 8.96592e-06.\n",
      "Iteration 46. Log joint probability =    50.0475. Improved by 1.2323e-06.\n",
      "Iteration 47. Log joint probability =    50.0475. Improved by 3.57442e-06.\n",
      "Iteration 48. Log joint probability =    50.0475. Improved by 3.94139e-06.\n",
      "Iteration 49. Log joint probability =    50.0475. Improved by 4.29944e-06.\n",
      "Iteration 50. Log joint probability =    50.0475. Improved by 2.13913e-06.\n",
      "Iteration 51. Log joint probability =    50.0475. Improved by 3.39615e-06.\n",
      "Iteration 52. Log joint probability =    50.0475. Improved by 2.63419e-06.\n",
      "Iteration 53. Log joint probability =    50.0475. Improved by 4.59782e-07.\n",
      "Iteration 54. Log joint probability =    50.0475. Improved by 1.48557e-06.\n",
      "Iteration 55. Log joint probability =    50.0475. Improved by 7.87712e-07.\n",
      "Iteration 56. Log joint probability =    50.0475. Improved by 1.10173e-06.\n",
      "Iteration 57. Log joint probability =    50.0475. Improved by 3.96219e-07.\n",
      "Iteration 58. Log joint probability =    50.0475. Improved by 4.56591e-07.\n",
      "Iteration 59. Log joint probability =    50.0475. Improved by 6.78572e-07.\n",
      "Iteration 60. Log joint probability =    50.0475. Improved by 2.74377e-07.\n",
      "Iteration 61. Log joint probability =    50.0475. Improved by 2.90284e-07.\n",
      "Iteration 62. Log joint probability =    50.0475. Improved by 2.10663e-07.\n",
      "Iteration 63. Log joint probability =    50.0475. Improved by 4.6932e-07.\n",
      "Iteration 64. Log joint probability =    50.0475. Improved by 1.13283e-07.\n",
      "Iteration 65. Log joint probability =    50.0475. Improved by 6.82759e-08.\n",
      "Iteration 66. Log joint probability =    50.0475. Improved by 2.52399e-07.\n",
      "Iteration 67. Log joint probability =    50.0475. Improved by 7.51005e-08.\n",
      "Iteration 68. Log joint probability =    50.0475. Improved by 5.35584e-08.\n",
      "Iteration 69. Log joint probability =    50.0475. Improved by 5.90694e-08.\n",
      "Iteration 70. Log joint probability =    50.0475. Improved by 3.15048e-08.\n",
      "Iteration 71. Log joint probability =    50.0475. Improved by 3.37777e-08.\n",
      "Iteration 72. Log joint probability =    50.0475. Improved by 1.27714e-08.\n",
      "Iteration 73. Log joint probability =    50.0475. Improved by 1.71512e-08.\n",
      "Iteration 74. Log joint probability =    50.0475. Improved by 3.88215e-09.\n",
      "MAE: 201.143\n"
     ]
    },
    {
     "data": {
      "image/png": "[encoded data removed]",
      "text/plain": [
       "<Figure size 432x288 with 1 Axes>"
      ]
     },
     "metadata": {
      "needs_background": "light"
     },
     "output_type": "display_data"
    }
   ],
   "source": [
    "# evaluate prophet time series forecasting model on hold out dataset\n",
    "from pandas import read_csv\n",
    "from pandas import to_datetime\n",
    "from pandas import DataFrame\n",
    "from fbprophet import Prophet\n",
    "from sklearn.metrics import mean_absolute_error\n",
    "from matplotlib import pyplot\n",
    "# load data\n",
    "path = 'mairowave_sheet1.csv'\n",
    "df = read_csv(path, header=0)\n",
    "# prepare expected column names\n",
    "df.columns = ['ds', 'y']\n",
    "df['ds']= to_datetime(df['ds'])\n",
    "# create test dataset, remove last 12 months\n",
    "train = df.drop(df.index[-12:])\n",
    "print(train.tail())\n",
    "# define the model\n",
    "model = Prophet()\n",
    "# fit the model\n",
    "model.fit(train)\n",
    "# define the period for which we want a prediction\n",
    "future = list()\n",
    "for i in range(1, 13):\n",
    "    date = '1968-%02d' % i\n",
    "    future.append([date])\n",
    "future = DataFrame(future)\n",
    "future.columns = ['ds']\n",
    "future['ds'] = to_datetime(future['ds'])\n",
    "# use the model to make a forecast\n",
    "forecast = model.predict(future)\n",
    "# calculate MAE between expected and predicted values for december\n",
    "y_true = df['y'][-12:].values\n",
    "y_pred = forecast['yhat'].values\n",
    "mae = mean_absolute_error(y_true, y_pred)\n",
    "print('MAE: %.3f' % mae)\n",
    "# plot expected vs actual\n",
    "pyplot.plot(y_true, label='Actual')\n",
    "pyplot.plot(y_pred, label='Predicted')\n",
    "pyplot.legend()\n",
    "pyplot.show()"
   ]
  },
  {
   "cell_type": "code",
   "execution_count": null,
   "metadata": {},
   "outputs": [],
   "source": []
  },
  {
   "cell_type": "code",
   "execution_count": 5,
   "metadata": {},
   "outputs": [
    {
     "name": "stderr",
     "output_type": "stream",
     "text": [
      "INFO:fbprophet:Disabling weekly seasonality. Run prophet with weekly_seasonality=True to override this.\n",
      "INFO:fbprophet:Disabling daily seasonality. Run prophet with daily_seasonality=True to override this.\n"
     ]
    },
    {
     "name": "stdout",
     "output_type": "stream",
     "text": [
      "Initial log joint probability = -4.39613\n",
      "    Iter      log prob        ||dx||      ||grad||       alpha      alpha0  # evals  Notes \n",
      "      99       270.098    0.00261938       60.3554      0.3175           1      119   \n",
      "    Iter      log prob        ||dx||      ||grad||       alpha      alpha0  # evals  Notes \n",
      "     181       270.275   7.23167e-05       79.5051   8.367e-07       0.001      262  LS failed, Hessian reset \n",
      "     199       270.292   2.73653e-06       94.8664      0.1454      0.6833      285   \n",
      "    Iter      log prob        ||dx||      ||grad||       alpha      alpha0  # evals  Notes \n",
      "     237       270.293   1.69077e-08        77.993           1           1      333   \n",
      "Optimization terminated normally: \n",
      "  Convergence detected: relative gradient magnitude is below tolerance\n"
     ]
    },
    {
     "ename": "NameError",
     "evalue": "name 'fb_pre' is not defined",
     "output_type": "error",
     "traceback": [
      "\u001b[0;31m---------------------------------------------------------------------------\u001b[0m",
      "\u001b[0;31mNameError\u001b[0m                                 Traceback (most recent call last)",
      "Input \u001b[0;32mIn [5]\u001b[0m, in \u001b[0;36m<module>\u001b[0;34m\u001b[0m\n\u001b[1;32m     14\u001b[0m forecast[[\u001b[38;5;124m'\u001b[39m\u001b[38;5;124mds\u001b[39m\u001b[38;5;124m'\u001b[39m, \u001b[38;5;124m'\u001b[39m\u001b[38;5;124myhat\u001b[39m\u001b[38;5;124m'\u001b[39m, \u001b[38;5;124m'\u001b[39m\u001b[38;5;124myhat_lower\u001b[39m\u001b[38;5;124m'\u001b[39m, \u001b[38;5;124m'\u001b[39m\u001b[38;5;124myhat_upper\u001b[39m\u001b[38;5;124m'\u001b[39m]]\u001b[38;5;241m.\u001b[39mtail()\n\u001b[1;32m     15\u001b[0m \u001b[38;5;66;03m#画图\u001b[39;00m\n\u001b[0;32m---> 16\u001b[0m plt\u001b[38;5;241m.\u001b[39mplot(\u001b[43mfb_pre\u001b[49m, \u001b[38;5;124m'\u001b[39m\u001b[38;5;124mr\u001b[39m\u001b[38;5;124m'\u001b[39m, label\u001b[38;5;241m=\u001b[39m\u001b[38;5;124m'\u001b[39m\u001b[38;5;124mprediction\u001b[39m\u001b[38;5;124m'\u001b[39m)\n\u001b[1;32m     17\u001b[0m plt\u001b[38;5;241m.\u001b[39mplot(origin_test_Y, \u001b[38;5;124m'\u001b[39m\u001b[38;5;124mb\u001b[39m\u001b[38;5;124m'\u001b[39m, label\u001b[38;5;241m=\u001b[39m\u001b[38;5;124m'\u001b[39m\u001b[38;5;124mreal\u001b[39m\u001b[38;5;124m'\u001b[39m)\n\u001b[1;32m     18\u001b[0m plt\u001b[38;5;241m.\u001b[39mlegend(loc\u001b[38;5;241m=\u001b[39m\u001b[38;5;124m'\u001b[39m\u001b[38;5;124mbest\u001b[39m\u001b[38;5;124m'\u001b[39m)\n",
      "\u001b[0;31mNameError\u001b[0m: name 'fb_pre' is not defined"
     ]
    }
   ],
   "source": [
    "import pandas as pd\n",
    "from fbprophet import Prophet\n",
    "import matplotlib.pyplot as plt\n",
    "df = pd.read_csv('https://raw.githubusercontent.com/jbrownlee/Datasets/master/monthly-car-sales.csv',header=0)\n",
    "df.columns = ['ds', 'y']\n",
    "#Prophet使用\n",
    "m = Prophet()\n",
    "m.fit(df)\n",
    "#需要预测时间段为整个365天，也就是下一年的整个天数\n",
    "future = m.make_future_dataframe(periods=365)\n",
    "#开始预测\n",
    "forecast = m.predict(future)\n",
    "#预测的结果保存在yhat_upper列中\n",
    "forecast[['ds', 'yhat', 'yhat_lower', 'yhat_upper']].tail()\n",
    "#画图\n",
    "plt.plot(fb_pre, 'r', label='prediction')\n",
    "plt.plot(origin_test_Y, 'b', label='real')\n",
    "plt.legend(loc='best')\n",
    "plt.show()\n",
    "#计算MSE\n",
    "fb_pre = np.array(forecast['yhat'].iloc[2034:2905])#2034到2905是前面30%的测试集所对应的数据范围\n",
    "MSE = true_data - fb_pre\n",
    "MSE = MSE*MSE\n",
    "MSE_loss = sum(MSE)/len(MSE)\n",
    "print(MSE_loss)"
   ]
  }
 ],
 "metadata": {
  "interpreter": {
   "hash": "916dbcbb3f70747c44a77c7bcd40155683ae19c65e1c03b4aa3499c5328201f1"
  },
  "kernelspec": {
   "display_name": "Python 3.8.10 64-bit",
   "language": "python",
   "name": "python3"
  },
  "language_info": {
   "codemirror_mode": {
    "name": "ipython",
    "version": 3
   },
   "file_extension": ".py",
   "mimetype": "text/x-python",
   "name": "python",
   "nbconvert_exporter": "python",
   "pygments_lexer": "ipython3",
   "version": "3.8.10"
  },
  "orig_nbformat": 4
 },
 "nbformat": 4,
 "nbformat_minor": 2
}
