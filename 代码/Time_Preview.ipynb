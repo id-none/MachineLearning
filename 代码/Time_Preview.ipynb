{
 "cells": [
  {
   "cell_type": "code",
   "execution_count": 1,
   "metadata": {},
   "outputs": [
    {
     "name": "stdout",
     "output_type": "stream",
     "text": [
      "Prophet 0.7.1\n"
     ]
    }
   ],
   "source": [
    "# check prophet version\n",
    "import fbprophet\n",
    "# print version number\n",
    "print('Prophet %s' % fbprophet.__version__)"
   ]
  },
  {
   "cell_type": "code",
   "execution_count": 3,
   "metadata": {},
   "outputs": [
    {
     "name": "stdout",
     "output_type": "stream",
     "text": [
      "(52, 2)\n",
      "           ds       y\n",
      "0   2011.6.22  3.4173\n",
      "1   2011.7.22  0.0000\n",
      "2   2011.8.21  0.0000\n",
      "3   2011.9.20  0.0000\n",
      "4  2011.10.20  0.0000\n"
     ]
    },
    {
     "data": {
      "image/png": "[encoded data removed]",
      "text/plain": [
       "<Figure size 432x288 with 1 Axes>"
      ]
     },
     "metadata": {
      "needs_background": "light"
     },
     "output_type": "display_data"
    }
   ],
   "source": [
    "# load the car sales dataset\n",
    "from pandas import read_csv\n",
    "from matplotlib import pyplot\n",
    "# load data\n",
    "path = 'mairowave_sheet1.csv'\n",
    "df = read_csv(path, header=0)\n",
    "# summarize shape\n",
    "print(df.shape)\n",
    "# show first few rows\n",
    "print(df.head())\n",
    "# plot the time series\n",
    "df.plot()\n",
    "pyplot.show()"
   ]
  },
  {
   "cell_type": "code",
   "execution_count": 4,
   "metadata": {},
   "outputs": [
    {
     "name": "stderr",
     "output_type": "stream",
     "text": [
      "INFO:fbprophet:Disabling weekly seasonality. Run prophet with weekly_seasonality=True to override this.\n",
      "INFO:fbprophet:Disabling daily seasonality. Run prophet with daily_seasonality=True to override this.\n"
     ]
    },
    {
     "name": "stdout",
     "output_type": "stream",
     "text": [
      "\n"
     ]
    },
    {
     "data": {
      "text/plain": [
       "<fbprophet.forecaster.Prophet at 0x7f7d5cc6d670>"
      ]
     },
     "execution_count": 4,
     "metadata": {},
     "output_type": "execute_result"
    },
    {
     "name": "stdout",
     "output_type": "stream",
     "text": [
      "Initial log joint probability = -63.9456\n",
      "Iteration  1. Log joint probability =    35.4879. Improved by 99.4335.\n",
      "Iteration  2. Log joint probability =    50.6454. Improved by 15.1574.\n",
      "Iteration  3. Log joint probability =    53.7948. Improved by 3.14942.\n",
      "Iteration  4. Log joint probability =    59.7432. Improved by 5.9484.\n",
      "Iteration  5. Log joint probability =    60.2464. Improved by 0.503173.\n",
      "Iteration  6. Log joint probability =    60.5343. Improved by 0.287986.\n",
      "Iteration  7. Log joint probability =    60.6036. Improved by 0.069278.\n",
      "Iteration  8. Log joint probability =    60.6296. Improved by 0.0260016.\n",
      "Iteration  9. Log joint probability =    60.6637. Improved by 0.034124.\n",
      "Iteration 10. Log joint probability =    60.7019. Improved by 0.0381265.\n",
      "Iteration 11. Log joint probability =    60.7021. Improved by 0.000256123.\n",
      "Iteration 12. Log joint probability =    60.7236. Improved by 0.0214393.\n",
      "Iteration 13. Log joint probability =     60.734. Improved by 0.0104492.\n",
      "Iteration 14. Log joint probability =    60.7351. Improved by 0.00104435.\n",
      "Iteration 15. Log joint probability =    60.7386. Improved by 0.00353692.\n",
      "Iteration 16. Log joint probability =     60.744. Improved by 0.00538267.\n",
      "Iteration 17. Log joint probability =    60.7462. Improved by 0.00224707.\n",
      "Iteration 18. Log joint probability =    60.7472. Improved by 0.0010104.\n",
      "Iteration 19. Log joint probability =     60.748. Improved by 0.000815131.\n",
      "Iteration 20. Log joint probability =    60.7484. Improved by 0.000329946.\n",
      "Iteration 21. Log joint probability =    60.7484. Improved by 2.77013e-05.\n",
      "Iteration 22. Log joint probability =    60.7485. Improved by 7.37379e-05.\n",
      "Iteration 23. Log joint probability =    60.7485. Improved by 3.00188e-05.\n",
      "Iteration 24. Log joint probability =    60.7492. Improved by 0.000716833.\n",
      "Iteration 25. Log joint probability =    60.7495. Improved by 0.00028915.\n",
      "Iteration 26. Log joint probability =    60.7496. Improved by 5.67157e-05.\n",
      "Iteration 27. Log joint probability =    60.7497. Improved by 7.93939e-05.\n",
      "Iteration 28. Log joint probability =    60.7498. Improved by 0.000120245.\n",
      "Iteration 29. Log joint probability =    60.7498. Improved by 3.67062e-05.\n",
      "Iteration 30. Log joint probability =    60.7498. Improved by 1.90265e-05.\n",
      "Iteration 31. Log joint probability =    60.7499. Improved by 0.000104143.\n",
      "Iteration 32. Log joint probability =    60.7499. Improved by 1.64837e-05.\n",
      "Iteration 33. Log joint probability =      60.75. Improved by 2.01562e-05.\n",
      "Iteration 34. Log joint probability =      60.75. Improved by 1.49512e-05.\n",
      "Iteration 35. Log joint probability =      60.75. Improved by 1.01974e-05.\n",
      "Iteration 36. Log joint probability =      60.75. Improved by 1.35488e-06.\n",
      "Iteration 37. Log joint probability =      60.75. Improved by 1.62185e-06.\n",
      "Iteration 38. Log joint probability =      60.75. Improved by 5.31534e-06.\n",
      "Iteration 39. Log joint probability =      60.75. Improved by 4.62154e-07.\n",
      "Iteration 40. Log joint probability =      60.75. Improved by 2.07704e-06.\n",
      "Iteration 41. Log joint probability =      60.75. Improved by 4.57608e-07.\n",
      "Iteration 42. Log joint probability =      60.75. Improved by 9.3884e-11.\n"
     ]
    }
   ],
   "source": [
    "# fit prophet model on the car sales dataset\n",
    "from pandas import read_csv\n",
    "from pandas import to_datetime\n",
    "from fbprophet import Prophet\n",
    "# load data\n",
    "path = 'mairowave_sheet1.csv'\n",
    "df = read_csv(path, header=0)\n",
    "# prepare expected column names\n",
    "df.columns = ['ds', 'y']\n",
    "df['ds']= to_datetime(df['ds'])\n",
    "# define the model\n",
    "model = Prophet()\n",
    "# fit the model\n",
    "model.fit(df)"
   ]
  },
  {
   "cell_type": "code",
   "execution_count": 9,
   "metadata": {},
   "outputs": [
    {
     "name": "stderr",
     "output_type": "stream",
     "text": [
      "INFO:fbprophet:Disabling weekly seasonality. Run prophet with weekly_seasonality=True to override this.\n",
      "INFO:fbprophet:Disabling daily seasonality. Run prophet with daily_seasonality=True to override this.\n"
     ]
    },
    {
     "name": "stdout",
     "output_type": "stream",
     "text": [
      "\n",
      "Initial log joint probability = -63.9456\n",
      "Iteration  1. Log joint probability =    35.4879. Improved by 99.4335.\n",
      "Iteration  2. Log joint probability =    50.6454. Improved by 15.1574.\n",
      "Iteration  3. Log joint probability =    53.7948. Improved by 3.14942.\n",
      "Iteration  4. Log joint probability =    59.7432. Improved by 5.9484.\n",
      "Iteration  5. Log joint probability =    60.2464. Improved by 0.503173.\n",
      "Iteration  6. Log joint probability =    60.5343. Improved by 0.287986.\n",
      "Iteration  7. Log joint probability =    60.6036. Improved by 0.069278.\n",
      "Iteration  8. Log joint probability =    60.6296. Improved by 0.0260016.\n",
      "Iteration  9. Log joint probability =    60.6637. Improved by 0.034124.\n",
      "Iteration 10. Log joint probability =    60.7019. Improved by 0.0381265.\n",
      "Iteration 11. Log joint probability =    60.7021. Improved by 0.000256123.\n",
      "Iteration 12. Log joint probability =    60.7236. Improved by 0.0214393.\n",
      "Iteration 13. Log joint probability =     60.734. Improved by 0.0104492.\n",
      "Iteration 14. Log joint probability =    60.7351. Improved by 0.00104435.\n",
      "Iteration 15. Log joint probability =    60.7386. Improved by 0.00353692.\n",
      "Iteration 16. Log joint probability =     60.744. Improved by 0.00538267.\n",
      "Iteration 17. Log joint probability =    60.7462. Improved by 0.00224707.\n",
      "Iteration 18. Log joint probability =    60.7472. Improved by 0.0010104.\n",
      "Iteration 19. Log joint probability =     60.748. Improved by 0.000815131.\n",
      "Iteration 20. Log joint probability =    60.7484. Improved by 0.000329946.\n",
      "Iteration 21. Log joint probability =    60.7484. Improved by 2.77013e-05.\n",
      "Iteration 22. Log joint probability =    60.7485. Improved by 7.37379e-05.\n",
      "Iteration 23. Log joint probability =    60.7485. Improved by 3.00188e-05.\n",
      "Iteration 24. Log joint probability =    60.7492. Improved by 0.000716833.\n",
      "Iteration 25. Log joint probability =    60.7495. Improved by 0.00028915.\n",
      "Iteration 26. Log joint probability =    60.7496. Improved by 5.67157e-05.\n",
      "Iteration 27. Log joint probability =    60.7497. Improved by 7.93939e-05.\n",
      "Iteration 28. Log joint probability =    60.7498. Improved by 0.000120245.\n",
      "Iteration 29. Log joint probability =    60.7498. Improved by 3.67062e-05.\n",
      "Iteration 30. Log joint probability =    60.7498. Improved by 1.90265e-05.\n",
      "Iteration 31. Log joint probability =    60.7499. Improved by 0.000104143.\n",
      "Iteration 32. Log joint probability =    60.7499. Improved by 1.64837e-05.\n",
      "Iteration 33. Log joint probability =      60.75. Improved by 2.01562e-05.\n",
      "Iteration 34. Log joint probability =      60.75. Improved by 1.49512e-05.\n",
      "Iteration 35. Log joint probability =      60.75. Improved by 1.01974e-05.\n",
      "Iteration 36. Log joint probability =      60.75. Improved by 1.35488e-06.\n",
      "Iteration 37. Log joint probability =      60.75. Improved by 1.62185e-06.\n",
      "Iteration 38. Log joint probability =      60.75. Improved by 5.31534e-06.\n",
      "Iteration 39. Log joint probability =      60.75. Improved by 4.62154e-07.\n",
      "Iteration 40. Log joint probability =      60.75. Improved by 2.07704e-06.\n",
      "Iteration 41. Log joint probability =      60.75. Improved by 4.57608e-07.\n",
      "Iteration 42. Log joint probability =      60.75. Improved by 9.3884e-11.\n",
      "          ds        yhat  yhat_lower  yhat_upper\n",
      "0 1968-01-01 -163.169066 -169.902139 -157.167411\n",
      "1 1968-02-01 -168.158551 -174.433627 -162.193341\n",
      "2 1968-03-01 -166.445351 -172.710995 -159.897198\n",
      "3 1968-04-01 -156.827604 -162.870340 -150.678325\n",
      "4 1968-05-01 -164.824425 -170.578225 -158.388716\n"
     ]
    },
    {
     "data": {
      "image/png": "[encoded data removed]",
      "text/plain": [
       "<Figure size 720x432 with 1 Axes>"
      ]
     },
     "metadata": {},
     "output_type": "display_data"
    }
   ],
   "source": [
    "# make an in-sample forecast\n",
    "from pandas import read_csv\n",
    "from pandas import to_datetime\n",
    "from pandas import DataFrame\n",
    "from fbprophet import Prophet\n",
    "from matplotlib import pyplot\n",
    "# load data\n",
    "path = 'mairowave_sheet1.csv'\n",
    "df = read_csv(path, header=0)\n",
    "# prepare expected column names\n",
    "df.columns = ['ds', 'y']\n",
    "df['ds']= to_datetime(df['ds'])\n",
    "# define the model\n",
    "model = Prophet()\n",
    "# fit the model\n",
    "model.fit(df)\n",
    "# define the period for which we want a prediction\n",
    "future = list()\n",
    "for i in range(1, 13):\n",
    "    # date = '1968-%02d' % i\n",
    "    date = '1968-%02d' % i\n",
    "    future.append([date])\n",
    "future = DataFrame(future)\n",
    "future.columns = ['ds']\n",
    "future['ds']= to_datetime(future['ds'])\n",
    "# use the model to make a forecast\n",
    "forecast = model.predict(future)\n",
    "# summarize the forecast\n",
    "print(forecast[['ds', 'yhat', 'yhat_lower', 'yhat_upper']].head())\n",
    "# plot forecast\n",
    "model.plot(forecast)\n",
    "pyplot.show()"
   ]
  },
  {
   "cell_type": "code",
   "execution_count": 11,
   "metadata": {},
   "outputs": [
    {
     "name": "stderr",
     "output_type": "stream",
     "text": [
      "INFO:fbprophet:Disabling weekly seasonality. Run prophet with weekly_seasonality=True to override this.\n",
      "INFO:fbprophet:Disabling daily seasonality. Run prophet with daily_seasonality=True to override this.\n"
     ]
    },
    {
     "name": "stdout",
     "output_type": "stream",
     "text": [
      "\n",
      "Initial log joint probability = -63.9456\n",
      "Iteration  1. Log joint probability =    35.4879. Improved by 99.4335.\n",
      "Iteration  2. Log joint probability =    50.6454. Improved by 15.1574.\n",
      "Iteration  3. Log joint probability =    53.7948. Improved by 3.14942.\n",
      "Iteration  4. Log joint probability =    59.7432. Improved by 5.9484.\n",
      "Iteration  5. Log joint probability =    60.2464. Improved by 0.503173.\n",
      "Iteration  6. Log joint probability =    60.5343. Improved by 0.287986.\n",
      "Iteration  7. Log joint probability =    60.6036. Improved by 0.069278.\n",
      "Iteration  8. Log joint probability =    60.6296. Improved by 0.0260016.\n",
      "Iteration  9. Log joint probability =    60.6637. Improved by 0.034124.\n",
      "Iteration 10. Log joint probability =    60.7019. Improved by 0.0381265.\n",
      "Iteration 11. Log joint probability =    60.7021. Improved by 0.000256123.\n",
      "Iteration 12. Log joint probability =    60.7236. Improved by 0.0214393.\n",
      "Iteration 13. Log joint probability =     60.734. Improved by 0.0104492.\n",
      "Iteration 14. Log joint probability =    60.7351. Improved by 0.00104435.\n",
      "Iteration 15. Log joint probability =    60.7386. Improved by 0.00353692.\n",
      "Iteration 16. Log joint probability =     60.744. Improved by 0.00538267.\n",
      "Iteration 17. Log joint probability =    60.7462. Improved by 0.00224707.\n",
      "Iteration 18. Log joint probability =    60.7472. Improved by 0.0010104.\n",
      "Iteration 19. Log joint probability =     60.748. Improved by 0.000815131.\n",
      "Iteration 20. Log joint probability =    60.7484. Improved by 0.000329946.\n",
      "Iteration 21. Log joint probability =    60.7484. Improved by 2.77013e-05.\n",
      "Iteration 22. Log joint probability =    60.7485. Improved by 7.37379e-05.\n",
      "Iteration 23. Log joint probability =    60.7485. Improved by 3.00188e-05.\n",
      "Iteration 24. Log joint probability =    60.7492. Improved by 0.000716833.\n",
      "Iteration 25. Log joint probability =    60.7495. Improved by 0.00028915.\n",
      "Iteration 26. Log joint probability =    60.7496. Improved by 5.67157e-05.\n",
      "Iteration 27. Log joint probability =    60.7497. Improved by 7.93939e-05.\n",
      "Iteration 28. Log joint probability =    60.7498. Improved by 0.000120245.\n",
      "Iteration 29. Log joint probability =    60.7498. Improved by 3.67062e-05.\n",
      "Iteration 30. Log joint probability =    60.7498. Improved by 1.90265e-05.\n",
      "Iteration 31. Log joint probability =    60.7499. Improved by 0.000104143.\n",
      "Iteration 32. Log joint probability =    60.7499. Improved by 1.64837e-05.\n",
      "Iteration 33. Log joint probability =      60.75. Improved by 2.01562e-05.\n",
      "Iteration 34. Log joint probability =      60.75. Improved by 1.49512e-05.\n",
      "Iteration 35. Log joint probability =      60.75. Improved by 1.01974e-05.\n",
      "Iteration 36. Log joint probability =      60.75. Improved by 1.35488e-06.\n",
      "Iteration 37. Log joint probability =      60.75. Improved by 1.62185e-06.\n",
      "Iteration 38. Log joint probability =      60.75. Improved by 5.31534e-06.\n",
      "Iteration 39. Log joint probability =      60.75. Improved by 4.62154e-07.\n",
      "Iteration 40. Log joint probability =      60.75. Improved by 2.07704e-06.\n",
      "Iteration 41. Log joint probability =      60.75. Improved by 4.57608e-07.\n",
      "Iteration 42. Log joint probability =      60.75. Improved by 9.3884e-11.\n",
      "          ds        yhat  yhat_lower  yhat_upper\n",
      "0 1969-01-01 -159.506182 -165.520069 -153.326407\n",
      "1 1969-02-01 -164.283967 -170.236218 -157.541092\n",
      "2 1969-03-01 -162.660537 -169.126254 -156.271450\n",
      "3 1969-04-01 -152.936147 -159.261997 -146.498419\n",
      "4 1969-05-01 -161.012482 -167.199464 -154.290658\n"
     ]
    },
    {
     "data": {
      "image/png": "[encoded data removed]",
      "text/plain": [
       "<Figure size 720x432 with 1 Axes>"
      ]
     },
     "metadata": {},
     "output_type": "display_data"
    }
   ],
   "source": [
    "# make an out-of-sample forecast\n",
    "from pandas import read_csv\n",
    "from pandas import to_datetime\n",
    "from pandas import DataFrame\n",
    "from fbprophet import Prophet\n",
    "from matplotlib import pyplot\n",
    "# load data\n",
    "path = 'mairowave_sheet1.csv'\n",
    "df = read_csv(path, header=0)\n",
    "# prepare expected column names\n",
    "df.columns = ['ds', 'y']\n",
    "df['ds']= to_datetime(df['ds'])\n",
    "# define the model\n",
    "model = Prophet()\n",
    "# fit the model\n",
    "model.fit(df)\n",
    "# define the period for which we want a prediction\n",
    "future = list()\n",
    "for i in range(1, 13):\n",
    "    date = '1969-%02d' % i\n",
    "    future.append([date])\n",
    "future = DataFrame(future)\n",
    "future.columns = ['ds']\n",
    "future['ds']= to_datetime(future['ds'])\n",
    "# use the model to make a forecast\n",
    "forecast = model.predict(future)\n",
    "# summarize the forecast\n",
    "print(forecast[['ds', 'yhat', 'yhat_lower', 'yhat_upper']].head())\n",
    "# plot forecast\n",
    "model.plot(forecast)\n",
    "pyplot.show()"
   ]
  },
  {
   "cell_type": "code",
   "execution_count": 17,
   "metadata": {},
   "outputs": [
    {
     "name": "stderr",
     "output_type": "stream",
     "text": [
      "INFO:fbprophet:Disabling weekly seasonality. Run prophet with weekly_seasonality=True to override this.\n",
      "INFO:fbprophet:Disabling daily seasonality. Run prophet with daily_seasonality=True to override this.\n"
     ]
    },
    {
     "name": "stdout",
     "output_type": "stream",
     "text": [
      "           ds      y\n",
      "91 1967-08-01  13434\n",
      "92 1967-09-01  13598\n",
      "93 1967-10-01  17187\n",
      "94 1967-11-01  16119\n",
      "95 1967-12-01  13713\n",
      "\n",
      "Initial log joint probability = -104.85\n",
      "Iteration  1. Log joint probability =    72.7915. Improved by 177.641.\n",
      "Iteration  2. Log joint probability =     141.49. Improved by 68.6982.\n",
      "Iteration  3. Log joint probability =    148.523. Improved by 7.03351.\n",
      "Iteration  4. Log joint probability =    148.546. Improved by 0.0223531.\n",
      "Iteration  5. Log joint probability =    148.554. Improved by 0.00880483.\n",
      "Iteration  6. Log joint probability =    148.576. Improved by 0.0214036.\n",
      "Iteration  7. Log joint probability =    148.585. Improved by 0.00973269.\n",
      "Iteration  8. Log joint probability =    148.606. Improved by 0.0204538.\n",
      "Iteration  9. Log joint probability =    148.617. Improved by 0.0106609.\n",
      "Iteration 10. Log joint probability =    148.636. Improved by 0.0195037.\n",
      "Iteration 11. Log joint probability =    148.648. Improved by 0.0115894.\n",
      "Iteration 12. Log joint probability =    148.666. Improved by 0.0185532.\n",
      "Iteration 13. Log joint probability =    148.679. Improved by 0.0125183.\n",
      "Iteration 14. Log joint probability =    148.696. Improved by 0.0176024.\n",
      "Iteration 15. Log joint probability =     148.71. Improved by 0.0134475.\n",
      "Iteration 16. Log joint probability =    148.726. Improved by 0.0166513.\n",
      "Iteration 17. Log joint probability =    148.741. Improved by 0.0143771.\n",
      "Iteration 18. Log joint probability =    148.757. Improved by 0.0156999.\n",
      "Iteration 19. Log joint probability =    148.772. Improved by 0.015307.\n",
      "Iteration 20. Log joint probability =    148.787. Improved by 0.0147481.\n",
      "Iteration 21. Log joint probability =    148.803. Improved by 0.0162373.\n",
      "Iteration 22. Log joint probability =    148.817. Improved by 0.0137961.\n",
      "Iteration 23. Log joint probability =    148.834. Improved by 0.0171679.\n",
      "Iteration 24. Log joint probability =    148.847. Improved by 0.0128437.\n",
      "Iteration 25. Log joint probability =    148.865. Improved by 0.0180988.\n",
      "Iteration 26. Log joint probability =    148.877. Improved by 0.0118909.\n",
      "Iteration 27. Log joint probability =    148.896. Improved by 0.0190301.\n",
      "Iteration 28. Log joint probability =    148.907. Improved by 0.0109379.\n",
      "Iteration 29. Log joint probability =    148.927. Improved by 0.0199618.\n",
      "Iteration 30. Log joint probability =    148.937. Improved by 0.00998453.\n",
      "Iteration 31. Log joint probability =    148.957. Improved by 0.0208938.\n",
      "Iteration 32. Log joint probability =    148.966. Improved by 0.00903083.\n",
      "Iteration 33. Log joint probability =    148.988. Improved by 0.0218261.\n",
      "Iteration 34. Log joint probability =    148.996. Improved by 0.0080768.\n",
      "Iteration 35. Log joint probability =    149.019. Improved by 0.0227589.\n",
      "Iteration 36. Log joint probability =    149.026. Improved by 0.00712245.\n",
      "Iteration 37. Log joint probability =     149.05. Improved by 0.0236919.\n",
      "Iteration 38. Log joint probability =    149.056. Improved by 0.00616777.\n",
      "Iteration 39. Log joint probability =    149.081. Improved by 0.0246253.\n",
      "Iteration 40. Log joint probability =    149.086. Improved by 0.00521276.\n",
      "Iteration 41. Log joint probability =    149.112. Improved by 0.0255591.\n",
      "Iteration 42. Log joint probability =    149.116. Improved by 0.00425741.\n",
      "Iteration 43. Log joint probability =    149.142. Improved by 0.0264932.\n",
      "Iteration 44. Log joint probability =    149.146. Improved by 0.00330174.\n",
      "Iteration 45. Log joint probability =    149.173. Improved by 0.0274277.\n",
      "Iteration 46. Log joint probability =    149.175. Improved by 0.00234573.\n",
      "Iteration 47. Log joint probability =    149.204. Improved by 0.0283626.\n",
      "Iteration 48. Log joint probability =    149.205. Improved by 0.00138939.\n",
      "Iteration 49. Log joint probability =    149.234. Improved by 0.0292978.\n",
      "Iteration 50. Log joint probability =    149.235. Improved by 0.000432712.\n",
      "Iteration 51. Log joint probability =    149.265. Improved by 0.0302333.\n",
      "Iteration 52. Log joint probability =    149.314. Improved by 0.0491703.\n",
      "Iteration 53. Log joint probability =    182.761. Improved by 33.4463.\n",
      "Iteration 54. Log joint probability =     189.18. Improved by 6.41958.\n",
      "Iteration 55. Log joint probability =    189.265. Improved by 0.0845876.\n",
      "Iteration 56. Log joint probability =     189.29. Improved by 0.0254509.\n",
      "Iteration 57. Log joint probability =    189.383. Improved by 0.0928119.\n",
      "Iteration 58. Log joint probability =    189.407. Improved by 0.0237773.\n",
      "Iteration 59. Log joint probability =     189.48. Improved by 0.0737264.\n",
      "Iteration 60. Log joint probability =    189.609. Improved by 0.128704.\n",
      "Iteration 61. Log joint probability =    189.658. Improved by 0.0487217.\n",
      "Iteration 62. Log joint probability =    189.845. Improved by 0.187362.\n",
      "Iteration 63. Log joint probability =    190.346. Improved by 0.501064.\n",
      "Iteration 64. Log joint probability =    199.123. Improved by 8.77684.\n",
      "Iteration 65. Log joint probability =    199.352. Improved by 0.229142.\n",
      "Iteration 66. Log joint probability =     202.52. Improved by 3.16772.\n",
      "Iteration 67. Log joint probability =    204.436. Improved by 1.91611.\n",
      "Iteration 68. Log joint probability =    207.108. Improved by 2.67166.\n",
      "Iteration 69. Log joint probability =    207.484. Improved by 0.376049.\n",
      "Iteration 70. Log joint probability =     212.51. Improved by 5.02648.\n",
      "Iteration 71. Log joint probability =     216.04. Improved by 3.52948.\n",
      "Iteration 72. Log joint probability =    216.893. Improved by 0.853308.\n",
      "Iteration 73. Log joint probability =    219.055. Improved by 2.16158.\n",
      "Iteration 74. Log joint probability =    219.719. Improved by 0.664594.\n",
      "Iteration 75. Log joint probability =     220.82. Improved by 1.10064.\n",
      "Iteration 76. Log joint probability =    221.052. Improved by 0.231763.\n",
      "Iteration 77. Log joint probability =    222.067. Improved by 1.01557.\n",
      "Iteration 78. Log joint probability =    222.516. Improved by 0.449119.\n",
      "Iteration 79. Log joint probability =    223.531. Improved by 1.01494.\n",
      "Iteration 80. Log joint probability =     223.57. Improved by 0.0390872.\n",
      "Iteration 81. Log joint probability =    223.716. Improved by 0.145833.\n",
      "Iteration 82. Log joint probability =    223.735. Improved by 0.0188064.\n",
      "Iteration 83. Log joint probability =    225.547. Improved by 1.81196.\n",
      "Iteration 84. Log joint probability =    225.818. Improved by 0.271325.\n",
      "Iteration 85. Log joint probability =    226.111. Improved by 0.292685.\n",
      "Iteration 86. Log joint probability =    226.373. Improved by 0.262285.\n",
      "Iteration 87. Log joint probability =    227.129. Improved by 0.755468.\n",
      "Iteration 88. Log joint probability =    227.969. Improved by 0.840713.\n",
      "Iteration 89. Log joint probability =     228.15. Improved by 0.180627.\n",
      "Iteration 90. Log joint probability =    228.152. Improved by 0.00197275.\n",
      "Iteration 91. Log joint probability =    228.928. Improved by 0.775614.\n",
      "Iteration 92. Log joint probability =    229.045. Improved by 0.117062.\n",
      "Iteration 93. Log joint probability =    230.208. Improved by 1.16325.\n",
      "Iteration 94. Log joint probability =     230.25. Improved by 0.0424113.\n",
      "Iteration 95. Log joint probability =     232.93. Improved by 2.67962.\n",
      "Iteration 96. Log joint probability =    233.449. Improved by 0.518669.\n",
      "Iteration 97. Log joint probability =    234.032. Improved by 0.582873.\n",
      "Iteration 98. Log joint probability =    234.089. Improved by 0.0577372.\n",
      "Iteration 99. Log joint probability =    234.117. Improved by 0.0274991.\n",
      "Iteration 100. Log joint probability =    234.625. Improved by 0.507974.\n",
      "Iteration 101. Log joint probability =    234.818. Improved by 0.193493.\n",
      "Iteration 102. Log joint probability =     234.86. Improved by 0.0414047.\n",
      "Iteration 103. Log joint probability =    234.874. Improved by 0.0147599.\n",
      "Iteration 104. Log joint probability =    234.891. Improved by 0.0163406.\n",
      "Iteration 105. Log joint probability =    234.962. Improved by 0.0714811.\n",
      "Iteration 106. Log joint probability =    234.967. Improved by 0.00502639.\n",
      "Iteration 107. Log joint probability =    234.981. Improved by 0.0136709.\n",
      "Iteration 108. Log joint probability =     234.99. Improved by 0.00891697.\n",
      "Iteration 109. Log joint probability =    234.993. Improved by 0.00302646.\n",
      "Iteration 110. Log joint probability =    234.999. Improved by 0.00594337.\n",
      "Iteration 111. Log joint probability =    235.002. Improved by 0.00281256.\n",
      "Iteration 112. Log joint probability =    235.003. Improved by 0.00117053.\n",
      "Iteration 113. Log joint probability =    235.003. Improved by 0.000413682.\n",
      "Iteration 114. Log joint probability =    235.004. Improved by 0.000287032.\n",
      "Iteration 115. Log joint probability =    235.004. Improved by 0.000618175.\n",
      "Iteration 116. Log joint probability =    235.004. Improved by 0.000135204.\n",
      "Iteration 117. Log joint probability =    235.004. Improved by 0.000144703.\n",
      "Iteration 118. Log joint probability =    235.005. Improved by 0.000400957.\n",
      "Iteration 119. Log joint probability =    235.005. Improved by 0.000384069.\n",
      "Iteration 120. Log joint probability =    235.006. Improved by 0.00056183.\n",
      "Iteration 121. Log joint probability =    235.006. Improved by 0.00025609.\n",
      "Iteration 122. Log joint probability =    235.006. Improved by 6.66205e-05.\n",
      "Iteration 123. Log joint probability =    235.006. Improved by 0.0002174.\n",
      "Iteration 124. Log joint probability =    235.006. Improved by 6.68748e-05.\n",
      "Iteration 125. Log joint probability =    235.006. Improved by 2.7519e-05.\n",
      "Iteration 126. Log joint probability =    235.006. Improved by 6.1791e-06.\n",
      "Iteration 127. Log joint probability =    235.006. Improved by 1.9133e-05.\n",
      "Iteration 128. Log joint probability =    235.006. Improved by 7.10389e-06.\n",
      "Iteration 129. Log joint probability =    235.006. Improved by 1.15499e-05.\n",
      "Iteration 130. Log joint probability =    235.006. Improved by 2.57825e-06.\n",
      "Iteration 131. Log joint probability =    235.006. Improved by 1.62747e-05.\n",
      "Iteration 132. Log joint probability =    235.006. Improved by 9.03988e-06.\n",
      "Iteration 133. Log joint probability =    235.007. Improved by 2.15131e-05.\n",
      "Iteration 134. Log joint probability =    235.007. Improved by 2.94838e-05.\n",
      "Iteration 135. Log joint probability =    235.007. Improved by 2.75125e-05.\n",
      "Iteration 136. Log joint probability =    235.007. Improved by 2.04077e-05.\n",
      "Iteration 137. Log joint probability =    235.007. Improved by 6.42547e-06.\n",
      "Iteration 138. Log joint probability =    235.007. Improved by 4.12178e-06.\n",
      "Iteration 139. Log joint probability =    235.007. Improved by 1.89545e-06.\n",
      "Iteration 140. Log joint probability =    235.007. Improved by 1.01054e-06.\n",
      "Iteration 141. Log joint probability =    235.007. Improved by 3.16242e-06.\n",
      "Iteration 142. Log joint probability =    235.007. Improved by 5.69954e-06.\n",
      "Iteration 143. Log joint probability =    235.007. Improved by 4.68096e-07.\n",
      "Iteration 144. Log joint probability =    235.007. Improved by 8.22329e-07.\n",
      "Iteration 145. Log joint probability =    235.007. Improved by 2.68454e-06.\n",
      "Iteration 146. Log joint probability =    235.007. Improved by 3.29838e-07.\n",
      "Iteration 147. Log joint probability =    235.007. Improved by 4.45133e-07.\n",
      "Iteration 148. Log joint probability =    235.007. Improved by 7.65548e-07.\n",
      "Iteration 149. Log joint probability =    235.007. Improved by 1.24512e-06.\n",
      "Iteration 150. Log joint probability =    235.007. Improved by 3.0779e-07.\n",
      "Iteration 151. Log joint probability =    235.007. Improved by 6.62833e-07.\n",
      "Iteration 152. Log joint probability =    235.007. Improved by 1.79269e-07.\n",
      "Iteration 153. Log joint probability =    235.007. Improved by 1.1594e-07.\n",
      "Iteration 154. Log joint probability =    235.007. Improved by 2.92789e-07.\n",
      "Iteration 155. Log joint probability =    235.007. Improved by 8.30935e-08.\n",
      "Iteration 156. Log joint probability =    235.007. Improved by 7.04446e-08.\n",
      "Iteration 157. Log joint probability =    235.007. Improved by 2.21384e-08.\n",
      "Iteration 158. Log joint probability =    235.007. Improved by 1.4477e-07.\n",
      "Iteration 159. Log joint probability =    235.007. Improved by 8.9846e-08.\n",
      "Iteration 160. Log joint probability =    235.007. Improved by 9.26282e-08.\n",
      "Iteration 161. Log joint probability =    235.007. Improved by 3.48044e-08.\n",
      "Iteration 162. Log joint probability =    235.007. Improved by 1.07663e-08.\n",
      "Iteration 163. Log joint probability =    235.007. Improved by 1.0382e-08.\n",
      "Iteration 164. Log joint probability =    235.007. Improved by 6.91372e-09.\n",
      "MAE: 1336.814\n"
     ]
    },
    {
     "data": {
      "image/png": "[encoded data removed]",
      "text/plain": [
       "<Figure size 432x288 with 1 Axes>"
      ]
     },
     "metadata": {
      "needs_background": "light"
     },
     "output_type": "display_data"
    }
   ],
   "source": [
    "# evaluate prophet time series forecasting model on hold out dataset\n",
    "from pandas import read_csv\n",
    "from pandas import to_datetime\n",
    "from pandas import DataFrame\n",
    "from fbprophet import Prophet\n",
    "from sklearn.metrics import mean_absolute_error\n",
    "from matplotlib import pyplot\n",
    "# load data\n",
    "path = 'mairowave_sheet1.csv'\n",
    "df = read_csv(path, header=0)\n",
    "# prepare expected column names\n",
    "df.columns = ['ds', 'y']\n",
    "df['ds']= to_datetime(df['ds'])\n",
    "# create test dataset, remove last 12 months\n",
    "train = df.drop(df.index[-12:])\n",
    "print(train.tail())\n",
    "# define the model\n",
    "model = Prophet()\n",
    "# fit the model\n",
    "model.fit(train)\n",
    "# define the period for which we want a prediction\n",
    "future = list()\n",
    "for i in range(1, 13):\n",
    "    date = '1968-%02d' % i\n",
    "    future.append([date])\n",
    "future = DataFrame(future)\n",
    "future.columns = ['ds']\n",
    "future['ds'] = to_datetime(future['ds'])\n",
    "# use the model to make a forecast\n",
    "forecast = model.predict(future)\n",
    "# calculate MAE between expected and predicted values for december\n",
    "y_true = df['y'][-12:].values\n",
    "y_pred = forecast['yhat'].values\n",
    "mae = mean_absolute_error(y_true, y_pred)\n",
    "print('MAE: %.3f' % mae)\n",
    "# plot expected vs actual\n",
    "pyplot.plot(y_true, label='Actual')\n",
    "pyplot.plot(y_pred, label='Predicted')\n",
    "pyplot.legend()\n",
    "pyplot.show()"
   ]
  },
  {
   "cell_type": "code",
   "execution_count": null,
   "metadata": {},
   "outputs": [],
   "source": []
  },
  {
   "cell_type": "code",
   "execution_count": 5,
   "metadata": {},
   "outputs": [
    {
     "name": "stderr",
     "output_type": "stream",
     "text": [
      "INFO:fbprophet:Disabling weekly seasonality. Run prophet with weekly_seasonality=True to override this.\n",
      "INFO:fbprophet:Disabling daily seasonality. Run prophet with daily_seasonality=True to override this.\n"
     ]
    },
    {
     "name": "stdout",
     "output_type": "stream",
     "text": [
      "Initial log joint probability = -4.39613\n",
      "    Iter      log prob        ||dx||      ||grad||       alpha      alpha0  # evals  Notes \n",
      "      99       270.098    0.00261938       60.3554      0.3175           1      119   \n",
      "    Iter      log prob        ||dx||      ||grad||       alpha      alpha0  # evals  Notes \n",
      "     181       270.275   7.23167e-05       79.5051   8.367e-07       0.001      262  LS failed, Hessian reset \n",
      "     199       270.292   2.73653e-06       94.8664      0.1454      0.6833      285   \n",
      "    Iter      log prob        ||dx||      ||grad||       alpha      alpha0  # evals  Notes \n",
      "     237       270.293   1.69077e-08        77.993           1           1      333   \n",
      "Optimization terminated normally: \n",
      "  Convergence detected: relative gradient magnitude is below tolerance\n"
     ]
    },
    {
     "ename": "NameError",
     "evalue": "name 'fb_pre' is not defined",
     "output_type": "error",
     "traceback": [
      "\u001b[0;31m---------------------------------------------------------------------------\u001b[0m",
      "\u001b[0;31mNameError\u001b[0m                                 Traceback (most recent call last)",
      "Input \u001b[0;32mIn [5]\u001b[0m, in \u001b[0;36m<module>\u001b[0;34m\u001b[0m\n\u001b[1;32m     14\u001b[0m forecast[[\u001b[38;5;124m'\u001b[39m\u001b[38;5;124mds\u001b[39m\u001b[38;5;124m'\u001b[39m, \u001b[38;5;124m'\u001b[39m\u001b[38;5;124myhat\u001b[39m\u001b[38;5;124m'\u001b[39m, \u001b[38;5;124m'\u001b[39m\u001b[38;5;124myhat_lower\u001b[39m\u001b[38;5;124m'\u001b[39m, \u001b[38;5;124m'\u001b[39m\u001b[38;5;124myhat_upper\u001b[39m\u001b[38;5;124m'\u001b[39m]]\u001b[38;5;241m.\u001b[39mtail()\n\u001b[1;32m     15\u001b[0m \u001b[38;5;66;03m#画图\u001b[39;00m\n\u001b[0;32m---> 16\u001b[0m plt\u001b[38;5;241m.\u001b[39mplot(\u001b[43mfb_pre\u001b[49m, \u001b[38;5;124m'\u001b[39m\u001b[38;5;124mr\u001b[39m\u001b[38;5;124m'\u001b[39m, label\u001b[38;5;241m=\u001b[39m\u001b[38;5;124m'\u001b[39m\u001b[38;5;124mprediction\u001b[39m\u001b[38;5;124m'\u001b[39m)\n\u001b[1;32m     17\u001b[0m plt\u001b[38;5;241m.\u001b[39mplot(origin_test_Y, \u001b[38;5;124m'\u001b[39m\u001b[38;5;124mb\u001b[39m\u001b[38;5;124m'\u001b[39m, label\u001b[38;5;241m=\u001b[39m\u001b[38;5;124m'\u001b[39m\u001b[38;5;124mreal\u001b[39m\u001b[38;5;124m'\u001b[39m)\n\u001b[1;32m     18\u001b[0m plt\u001b[38;5;241m.\u001b[39mlegend(loc\u001b[38;5;241m=\u001b[39m\u001b[38;5;124m'\u001b[39m\u001b[38;5;124mbest\u001b[39m\u001b[38;5;124m'\u001b[39m)\n",
      "\u001b[0;31mNameError\u001b[0m: name 'fb_pre' is not defined"
     ]
    }
   ],
   "source": [
    "import pandas as pd\n",
    "from fbprophet import Prophet\n",
    "import matplotlib.pyplot as plt\n",
    "df = pd.read_csv('https://raw.githubusercontent.com/jbrownlee/Datasets/master/monthly-car-sales.csv',header=0)\n",
    "df.columns = ['ds', 'y']\n",
    "#Prophet使用\n",
    "m = Prophet()\n",
    "m.fit(df)\n",
    "#需要预测时间段为整个365天，也就是下一年的整个天数\n",
    "future = m.make_future_dataframe(periods=365)\n",
    "#开始预测\n",
    "forecast = m.predict(future)\n",
    "#预测的结果保存在yhat_upper列中\n",
    "forecast[['ds', 'yhat', 'yhat_lower', 'yhat_upper']].tail()\n",
    "#画图\n",
    "plt.plot(fb_pre, 'r', label='prediction')\n",
    "plt.plot(origin_test_Y, 'b', label='real')\n",
    "plt.legend(loc='best')\n",
    "plt.show()\n",
    "#计算MSE\n",
    "fb_pre = np.array(forecast['yhat'].iloc[2034:2905])#2034到2905是前面30%的测试集所对应的数据范围\n",
    "MSE = true_data - fb_pre\n",
    "MSE = MSE*MSE\n",
    "MSE_loss = sum(MSE)/len(MSE)\n",
    "print(MSE_loss)"
   ]
  }
 ],
 "metadata": {
  "interpreter": {
   "hash": "916dbcbb3f70747c44a77c7bcd40155683ae19c65e1c03b4aa3499c5328201f1"
  },
  "kernelspec": {
   "display_name": "Python 3.8.10 64-bit",
   "language": "python",
   "name": "python3"
  },
  "language_info": {
   "codemirror_mode": {
    "name": "ipython",
    "version": 3
   },
   "file_extension": ".py",
   "mimetype": "text/x-python",
   "name": "python",
   "nbconvert_exporter": "python",
   "pygments_lexer": "ipython3",
   "version": "3.8.10"
  },
  "orig_nbformat": 4
 },
 "nbformat": 4,
 "nbformat_minor": 2
}
