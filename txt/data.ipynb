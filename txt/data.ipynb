{
 "cells": [
  {
   "cell_type": "code",
   "execution_count": 150,
   "metadata": {},
   "outputs": [],
   "source": [
    "def return_time(text):\n",
    "    ls = text.split('/')\n",
    "    s = \"\"\n",
    "    s += ls[2] + \"/\"\n",
    "    s += ls[0] + \"/\"\n",
    "    s += ls[1]\n",
    "    return s"
   ]
  },
  {
   "cell_type": "code",
   "execution_count": 151,
   "metadata": {},
   "outputs": [
    {
     "name": "stdout",
     "output_type": "stream",
     "text": [
      "2014/9/29\n"
     ]
    }
   ],
   "source": [
    "print(return_time(\"9/29/2014\"))"
   ]
  },
  {
   "cell_type": "code",
   "execution_count": 152,
   "metadata": {},
   "outputs": [],
   "source": [
    "f = open('1.txt','r',encoding=\"utf-8\")\n",
    "f1 = open('1_1.txt','w',encoding=\"utf-8\")\n",
    "text = f.readlines()\n",
    "text = [line.strip(\"\\n\") for line in text]\n",
    "for i in text:\n",
    "    f1.write(return_time(i)+\"\\n\")"
   ]
  }
 ],
 "metadata": {
  "interpreter": {
   "hash": "916dbcbb3f70747c44a77c7bcd40155683ae19c65e1c03b4aa3499c5328201f1"
  },
  "kernelspec": {
   "display_name": "Python 3.8.10 64-bit",
   "language": "python",
   "name": "python3"
  },
  "language_info": {
   "codemirror_mode": {
    "name": "ipython",
    "version": 3
   },
   "file_extension": ".py",
   "mimetype": "text/x-python",
   "name": "python",
   "nbconvert_exporter": "python",
   "pygments_lexer": "ipython3",
   "version": "3.8.10"
  },
  "orig_nbformat": 4
 },
 "nbformat": 4,
 "nbformat_minor": 2
}
